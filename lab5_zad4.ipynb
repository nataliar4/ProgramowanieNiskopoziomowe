{
 "cells": [
  {
   "cell_type": "markdown",
   "metadata": {},
   "source": [
    "# PROGRAMOWANIE NISKOPOZIOMOWE\n",
    "## laboratorium 5 zadanie 4"
   ]
  },
  {
   "cell_type": "markdown",
   "metadata": {},
   "source": [
    "Zaimplementuj strukturę Wielomian do reprezentacji wielomianu $a_n*x^n+a_{n-1}*x^{n-1}+...+a_1*x+a_0$ o współczynnikach całkowitych. Zaplanuj w strukturze pola do przechowywania stopnia\n",
    "wielomianu i współczynników wielomianu. Wykorzystaj tę strukturę do implementacji funkcji znajdującej\n",
    "wszystkie pierwiastki wymierne wielomianu. Dla zadanego na wejściu wielomianu (w pierwszym wierszu\n",
    "stopień wielomianu, w kolejnych – poszczególne współczynniki wielomianu, od $a_n$ do $a_0$), znajdź i\n",
    "wyprowadź na standardowe wyjście wszystkie jego pierwiastki wymierne w kolejności niemalejącej.\n",
    "Wskazówka: skorzystaj z twierdzenia o pierwiastkach wymiernych wielomianu o współczynnikach całkowitych."
   ]
  },
  {
   "cell_type": "markdown",
   "metadata": {},
   "source": [
    "**Wykorzystywane biblioteki**"
   ]
  },
  {
   "cell_type": "code",
   "execution_count": null,
   "metadata": {},
   "outputs": [],
   "source": [
    "#include <stdio.h>\n",
    "#include <cmath>"
   ]
  },
  {
   "cell_type": "markdown",
   "metadata": {},
   "source": [
    "**Definicja struktury Wielomian**"
   ]
  },
  {
   "cell_type": "code",
   "execution_count": null,
   "metadata": {},
   "outputs": [],
   "source": [
    "struct Wielomian {\n",
    "\tint stopien;\n",
    "\tint* wspolczynniki;\n",
    "};"
   ]
  },
  {
   "cell_type": "markdown",
   "metadata": {},
   "source": [
    "**Deklaracje funkcji**"
   ]
  },
  {
   "cell_type": "code",
   "execution_count": null,
   "metadata": {},
   "outputs": [],
   "source": [
    "Wielomian tworzenieWielomianu();\n",
    "void wypiszWielomian(Wielomian wielomian);\n",
    "int* obliczanieDzielnikow(int liczba);\n",
    "void obliczaniePierwiastkow(Wielomian wielomian);"
   ]
  },
  {
   "cell_type": "markdown",
   "metadata": {},
   "source": [
    "**Definicje funkcji**"
   ]
  },
  {
   "cell_type": "markdown",
   "metadata": {},
   "source": [
    "Tworzenie wielomianu na podstawie danych podanych przez uzytkownika. Funkcja czyta stopien wielomianu, a nastepnie alokuje na tej podstawie pamiec na odpowiednia ilosc wspolczynnikow."
   ]
  },
  {
   "cell_type": "code",
   "execution_count": null,
   "metadata": {},
   "outputs": [],
   "source": [
    "Wielomian tworzenieWielomianu() {\n",
    "\tWielomian wielomian;\n",
    "\tprintf(\"Podaj stopien wielomianu:\");\n",
    "\tscanf_s(\"%d\", &wielomian.stopien);\n",
    "\twielomian.wspolczynniki = (int*)malloc((wielomian.stopien + 1) * sizeof(int));\n",
    "\t\tfor (int i = wielomian.stopien; i >= 0 ; i--) {\n",
    "\t\t\tprintf(\"Podaj %d wspolczynnik: \", i);\n",
    "\t\t\tscanf_s(\"%d\", &wielomian.wspolczynniki[i]);\n",
    "\t\t}\n",
    "\treturn wielomian;\n",
    "}"
   ]
  },
  {
   "cell_type": "markdown",
   "metadata": {},
   "source": [
    "Ponizsza funkcja pozwala wypisac wielomian na konsole."
   ]
  },
  {
   "cell_type": "code",
   "execution_count": null,
   "metadata": {},
   "outputs": [],
   "source": [
    "void wypiszWielomian(Wielomian wielomian) {\n",
    "\tprintf(\"stopien: %d\\n\", wielomian.stopien);\n",
    "\tfor (int i = wielomian.stopien; i >= 0; i--) {\n",
    "\t\tif (i == 0) {\n",
    "\t\t\tprintf(\"%d*x^%d\\n\", wielomian.wspolczynniki[i], i);\n",
    "\t\t}\n",
    "\t\telse {\n",
    "\t\t\tprintf(\"%d*x^%d + \", wielomian.wspolczynniki[i], i);\n",
    "\t\t}\n",
    "\t\t\n",
    "\t}\n",
    "\tprintf(\"\\n\\n\");\n",
    "}"
   ]
  },
  {
   "cell_type": "markdown",
   "metadata": {},
   "source": [
    "Poniewaz bedziemy kozystac z twierdzenia o pierwiastkach wymiernych wielomianu o współczynnikach całkowitych, ktore mowi, ze jezeli wielomian posiada pierwiastek calkowity to jest on dzielnikiem wyrazu wolnego $a_n$, bedziemy wyznaczac dzielniki tego wyrazu."
   ]
  },
  {
   "cell_type": "code",
   "execution_count": null,
   "metadata": {},
   "outputs": [],
   "source": [
    "int* obliczanieDzielnikow(int liczba) {\n",
    "\tint* dzielniki = (int*)malloc(liczba * sizeof(int));\n",
    "\tint indeks = 0;\n",
    "\tfor (int i = 1; i <= liczba; i++) {\n",
    "\t\tif (liczba % i == 0) {\n",
    "\t\t\tdzielniki[indeks++] = i;\n",
    "\t\t}\n",
    "\t\telse {\n",
    "\t\t\tindeks++;\n",
    "\t\t}\n",
    "\t}\n",
    "\treturn dzielniki;\n",
    "}"
   ]
  },
  {
   "cell_type": "markdown",
   "metadata": {},
   "source": [
    "Sprawdzamy dla kazdego wyznaczonego dzielnika wyrazu wolnego $a_n$ czy wielomian sie zeruje. Jesli tak jest, wyznaczony w ten sposob pierwiastek wyprowadzony jest na konsole."
   ]
  },
  {
   "cell_type": "code",
   "execution_count": null,
   "metadata": {},
   "outputs": [],
   "source": [
    "void obliczaniePierwiastkow(Wielomian wielomian) {\n",
    "\tint ostatni = abs(wielomian.wspolczynniki[0]);\n",
    "\t//printf(\"%d * x^0\", ostatni);\n",
    "\tint* dzielniki = obliczanieDzielnikow(ostatni);\n",
    "\tfor (int i = -ostatni; i < 0; i++) {\n",
    "\t\tint suma = 0;\n",
    "\t\tfor (int j = 0; j <= wielomian.stopien; j++) {\n",
    "\t\t\tsuma += wielomian.wspolczynniki[j] * pow(i, j);\n",
    "\t\t}\n",
    "\t\tif (suma == 0) {\n",
    "\t\t\tprintf(\"Pierwiastek wielomianu: %d\\n\", i);\n",
    "\t\t}\n",
    "\t\t/*\n",
    "\t\telse {\n",
    "\t\t\tprintf(\"%d nie jest pierwiastkiem\\n\", i);\n",
    "\t\t}\n",
    "\t\t*/\n",
    "\t}\n",
    "\tfor (int i = 0; i < ostatni; i++) {\n",
    "\t\tint suma = 0;\n",
    "\t\tfor (int j = 0; j <= wielomian.stopien; j++) {\n",
    "\t\t\tsuma += wielomian.wspolczynniki[j] * pow(i, j);\n",
    "\t\t}\n",
    "\t\tif (suma == 0) {\n",
    "\t\t\tprintf(\"Pierwiastek wielomianu: %d\\n\", i);\n",
    "\t\t}\n",
    "\t\t/*\n",
    "\t\telse {\n",
    "\t\t\tprintf(\"%d nie jest pierwiastkiem\\n\", i);\n",
    "\t\t}\n",
    "\t\t*/\n",
    "\t}\n",
    "\n",
    "}"
   ]
  },
  {
   "cell_type": "code",
   "execution_count": null,
   "metadata": {},
   "outputs": [],
   "source": [
    "int main() {\n",
    "\tWielomian wielomian = tworzenieWielomianu();\n",
    "\twypiszWielomian(wielomian);\n",
    "\tobliczaniePierwiastkow(wielomian);\n",
    "}"
   ]
  }
 ],
 "metadata": {
  "kernelspec": {
   "display_name": "C++14",
   "language": "C++14",
   "name": "xcpp14"
  },
  "language_info": {
   "codemirror_mode": "text/x-c++src",
   "file_extension": ".cpp",
   "mimetype": "text/x-c++src",
   "name": "c++",
   "version": "14"
  }
 },
 "nbformat": 4,
 "nbformat_minor": 4
}
