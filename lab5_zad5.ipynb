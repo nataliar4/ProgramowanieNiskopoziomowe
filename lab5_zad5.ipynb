{
 "cells": [
  {
   "cell_type": "markdown",
   "id": "affecting-antique",
   "metadata": {},
   "source": [
    "# PROGRAMOWANIE NISKOPOZIOMOWE\n",
    "## LABORATORIUM 5 ZADANIE 5"
   ]
  },
  {
   "cell_type": "markdown",
   "id": "legislative-albany",
   "metadata": {},
   "source": [
    "Zaimplementuj obsługę drzewa typu BST przechowującego liczby całkowite. Zdefiniuj w tym celu strukturę\n",
    "do reprezentacji wierzchołka drzewa wierzcholekBST oraz następujące funkcje rekurencyjne:\n",
    "- wstawiającą wskazany element do wskazanego drzewa **wstaw_doDrzewa**\n",
    "- sprawdzającą, czy wskazany element występuje we wskazanym drzewie **czy_Element**\n",
    "- usuwającą wskazany element ze wskazanego drzewa **usun_zDrzewa**\n",
    "- obliczającą poziom drzewa **oblicz_Poziom**\n",
    "- wyprowadzającą zawartość wskazanego drzewa **wyprowadz_Drzewo** w kolejności inorder\n",
    "- usuwającą wskazane drzewo z pamięci **usun_Drzewo**\n",
    "- sprawdzającą, czy wskazane drzewo jest puste **czy_pusteDrzewo**.\n",
    "\n",
    "Wyposaż funkcje w odpowiednie listy parametrów formalnych i nadaj im odpowiednie typy. Zademonstruj\n",
    "zdefiniowane funkcje w działaniu."
   ]
  },
  {
   "cell_type": "markdown",
   "id": "speaking-adventure",
   "metadata": {},
   "source": [
    "**Wykorzystywane biblioteki**"
   ]
  },
  {
   "cell_type": "code",
   "execution_count": null,
   "id": "forced-maker",
   "metadata": {},
   "outputs": [],
   "source": [
    "#include <stdio.h>\n",
    "#include <stdlib.h>"
   ]
  },
  {
   "cell_type": "markdown",
   "id": "hungarian-inquiry",
   "metadata": {},
   "source": [
    "**Struktura**"
   ]
  },
  {
   "cell_type": "markdown",
   "id": "moral-sympathy",
   "metadata": {},
   "source": [
    "Tworze strukture wierzcholek, przechowujaca wartosc wierzcholka oraz wskazniki na obu jego potomkow, wstepnie tworze korzen drzewa \"bst\" poczatkowo NULL."
   ]
  },
  {
   "cell_type": "code",
   "execution_count": null,
   "id": "horizontal-victim",
   "metadata": {},
   "outputs": [],
   "source": [
    "struct Wierzcholek\n",
    "{\n",
    "\tint wartosc;\n",
    "\tstruct Wierzcholek* prawy;\n",
    "\tstruct Wierzcholek* lewy;\n",
    "} *bst;"
   ]
  },
  {
   "cell_type": "markdown",
   "id": "weekly-documentation",
   "metadata": {},
   "source": [
    "**Deklaracje funkcji**"
   ]
  },
  {
   "cell_type": "code",
   "execution_count": null,
   "id": "fifty-stamp",
   "metadata": {},
   "outputs": [],
   "source": [
    "//wstawianie wierzcholka o zadanej wartosci do zadanego drzewa\n",
    "struct Wierzcholek* wstaw_doDrzewa(struct Wierzcholek* drzewo, int wartosc); \n",
    "\n",
    "//sprawdzanie czy element o zadanej wartosci znajduje sie w zadanym drzewie\n",
    "bool czy_Element(struct Wierzcholek* drzewo, int wartosc);\n",
    "\n",
    "//wyznaczanie minimalnej wartosci w drzewie\n",
    "struct Wierzcholek* min_zDrzewa(struct Wierzcholek* drzewo);\n",
    "\n",
    "//usuwanie z zadanego drzewa elementu o zadanej wartosci\n",
    "struct Wierzcholek* usun_zDrzewa(struct Wierzcholek* drzewo, int wartosc);\n",
    "\n",
    "//obliczanie liczby poziomow w zadanym drzewie\n",
    "int oblicz_Poziom(struct Wierzcholek* drzewo);\n",
    "\n",
    "//wypisywanie drzewa na konsole\n",
    "void wyprowadz_Drzewo(struct Wierzcholek* drzewo);\n",
    "\n",
    "//usuwanie calego drzewa\n",
    "struct Wierzcholek* usun_Drzewo(struct Wierzcholek* drzewo);\n",
    "\n",
    "//sprawdzanie czy zadane drzewo jest puse czy zawiera juz jakies wezly\n",
    "bool czy_pusteDrzewo(struct Wierzcholek* drzewo);"
   ]
  },
  {
   "cell_type": "markdown",
   "id": "elect-edinburgh",
   "metadata": {},
   "source": [
    "**Definicje funkcji**"
   ]
  },
  {
   "cell_type": "markdown",
   "id": "chicken-volleyball",
   "metadata": {},
   "source": [
    "Sprawdzam czy drzewo jest puste. Jesli tak, to nowo odawany wierzcholek staje sie jego korzeniem. Jesli drzewo zawiera juz jakies wezly, to sprawdzam czy wartosc nowego wierzcholka jest wieksza czy mniejsza od wierzcholka - rodzica i w zaleznosci od tego poruszam sie rekurencyjnie dalej w prawa lub lewa galaz."
   ]
  },
  {
   "cell_type": "code",
   "execution_count": null,
   "id": "italian-runner",
   "metadata": {},
   "outputs": [],
   "source": [
    "struct Wierzcholek* wstaw_doDrzewa(struct Wierzcholek* drzewo, int wartosc)\n",
    "{\n",
    "\tif (drzewo == nullptr)\n",
    "\t{\n",
    "\t\tstruct Wierzcholek* nowy = (struct Wierzcholek*)malloc(sizeof(struct Wierzcholek));\n",
    "\t\tnowy->wartosc = wartosc;\n",
    "\t\tnowy->lewy = nullptr;\n",
    "\t\tnowy->prawy = nullptr;\n",
    "\t\treturn nowy;\n",
    "\t}\n",
    "\telse\n",
    "\t{\n",
    "\t\tif (wartosc > drzewo->wartosc) drzewo->prawy = wstaw_doDrzewa(drzewo->prawy, wartosc);\n",
    "\t\telse drzewo->lewy = wstaw_doDrzewa(drzewo->lewy, wartosc);\n",
    "\t}\n",
    "\treturn drzewo;\n",
    "}"
   ]
  },
  {
   "cell_type": "markdown",
   "id": "alien-cocktail",
   "metadata": {},
   "source": [
    "Funkcja majaca na celu sprawdzenie czy w danym drzewie znajduje sie juz wezel o podanej wartosci. Sprawdza czy drzewo jest puste, jesli tak zwraca falsz, jesli korzen drzewa ma te wartosc zwraca prawde, jesli korzen nie rowna sie tej wartosci, wowczas w zaleznosci od wartosci poruszamy sie w dol lewej lub prawej galezi wywolujac ponownie te funkcje, tym razem jako korzen traktujac odpowiednie z potomkow aktualnego korzenia."
   ]
  },
  {
   "cell_type": "code",
   "execution_count": null,
   "id": "portuguese-laptop",
   "metadata": {},
   "outputs": [],
   "source": [
    "bool czy_Element(struct Wierzcholek* drzewo, int wartosc)\n",
    "{\n",
    "\tif (drzewo == nullptr) return false;\n",
    "\tif (drzewo->wartosc == wartosc) return true;\n",
    "\tif (wartosc > drzewo->wartosc) return czy_Element(drzewo->prawy, wartosc);\n",
    "\telse return czy_Element(drzewo->lewy, wartosc);\n",
    "}"
   ]
  },
  {
   "cell_type": "markdown",
   "id": "earned-highland",
   "metadata": {},
   "source": [
    "Funkcja pomocnicza majaca na celu wyznaczenie minimalnej wartosci wystepujacej w drzewie. Dokonuje sie to poprzes przesuwanie sie wzdluz lewej galezi dopuki nie natrafimy na wierzcholek pusty bedacy lewym dzieckiem skrajnie lewego liscia."
   ]
  },
  {
   "cell_type": "code",
   "execution_count": null,
   "id": "desirable-patch",
   "metadata": {},
   "outputs": [],
   "source": [
    "struct Wierzcholek* min_zDrzewa(struct Wierzcholek* drzewo) {\n",
    "\tstruct Wierzcholek* min = drzewo;\n",
    "\n",
    "\twhile (min && min->lewy != nullptr) min = min->lewy;\n",
    "\n",
    "\treturn min;\n",
    "}"
   ]
  },
  {
   "cell_type": "markdown",
   "id": "tamil-district",
   "metadata": {},
   "source": [
    "Funkcja usuwajaca z drzewa wierzcholek o podanej wartosci.  \n",
    "Jesli drzewo jest puste wowczas niemozliwym jest by zawieralo wierzcholek o zadanej wartosci.  \n",
    "Jesli zadana wartosc jest mniejsza lub wieksza niz rozpatrywany wierzcholek wowczas wywolujemy te funkcje dla odpowiednigo jego potomka. <br> \n",
    "W przeciwnym wypadku (kiedy zadana wartosc jest rowna co do wartosci rozpatrywanego wierzcholka) rozpatrujemy nastepujace sytuacje:  \n",
    "Jesli dotarlismy do liscia drzewa wowczas go \"po prostu\" usuwamy.  \n",
    "Jesli mamy tylko jednego z dwoch potomkow, to zastepujemy rozpatrywany wierzcholek jego potomkiem.  \n",
    "Jesli natomiast rozpatrywany wierzcholek posiada dwoje potomkow, wowczas w jego miejsce wstawiamy najmniejsza wartosc z jego prawego potomka, a tamta usuwamy.\n",
    "\n"
   ]
  },
  {
   "cell_type": "code",
   "execution_count": null,
   "id": "welcome-negative",
   "metadata": {},
   "outputs": [],
   "source": [
    "struct Wierzcholek* usun_zDrzewa(struct Wierzcholek* drzewo, int wartosc) {\n",
    "\tif (drzewo == nullptr) return drzewo;\n",
    "\tif (wartosc < drzewo->wartosc) drzewo->lewy = usun_zDrzewa(drzewo->lewy, wartosc);\n",
    "\telse if (wartosc > drzewo->wartosc) drzewo->prawy = usun_zDrzewa(drzewo->prawy, wartosc);\n",
    "\telse\n",
    "\t{\n",
    "\t\tif (drzewo->lewy == nullptr && drzewo->prawy == nullptr) return nullptr;\n",
    "\t\telse if (drzewo->lewy == nullptr)\n",
    "\t\t{\n",
    "\t\t\tstruct Wierzcholek* prawy = drzewo->prawy;\n",
    "\t\t\tfree(drzewo);\n",
    "\t\t\treturn prawy;\n",
    "\t\t}\n",
    "\t\telse if (drzewo->prawy == nullptr)\n",
    "\t\t{\n",
    "\t\t\tstruct Wierzcholek* lewy = drzewo->lewy;\n",
    "\t\t\tfree(drzewo);\n",
    "\t\t\treturn lewy;\n",
    "\t\t}\n",
    "\t\telse\n",
    "\t\t{\n",
    "\t\t\tstruct Wierzcholek* min = min_zDrzewa(drzewo->prawy);\n",
    "\t\t\tdrzewo->wartosc = min->wartosc;\n",
    "\t\t\tdrzewo->prawy = usun_zDrzewa(drzewo->prawy, min->wartosc);\n",
    "\t\t}\n",
    "\t}\n",
    "\treturn drzewo;\n",
    "}"
   ]
  },
  {
   "cell_type": "markdown",
   "id": "meaning-ghost",
   "metadata": {},
   "source": [
    "Obliczamy wysokosci z obu galezi i zwracamy wieksza z nich."
   ]
  },
  {
   "cell_type": "code",
   "execution_count": null,
   "id": "measured-sherman",
   "metadata": {},
   "outputs": [],
   "source": [
    "int oblicz_Poziom(struct Wierzcholek* drzewo)\n",
    "{\n",
    "\tif (drzewo == nullptr) return 0;\n",
    "\tint lewy = oblicz_Poziom(drzewo->lewy);\n",
    "\tint prawy = oblicz_Poziom(drzewo->prawy);\n",
    "\treturn (lewy > prawy ? lewy : prawy) + 1;\n",
    "}"
   ]
  },
  {
   "cell_type": "markdown",
   "id": "desperate-intro",
   "metadata": {},
   "source": [
    "Wypisuje wartosci kolejnych wezow w kolejnosci inorder."
   ]
  },
  {
   "cell_type": "code",
   "execution_count": null,
   "id": "statutory-newton",
   "metadata": {},
   "outputs": [],
   "source": [
    "void wyprowadz_Drzewo(struct Wierzcholek* drzewo)\n",
    "{\n",
    "\tif (drzewo == nullptr) return;\n",
    "\twyprowadz_Drzewo(drzewo->lewy);\n",
    "\tprintf(\"Wartosc: %d\\n\", drzewo->wartosc);\n",
    "\twyprowadz_Drzewo(drzewo->prawy);\n",
    "}"
   ]
  },
  {
   "cell_type": "markdown",
   "id": "continuing-founder",
   "metadata": {},
   "source": [
    "Usuwa cale drzewo."
   ]
  },
  {
   "cell_type": "code",
   "execution_count": null,
   "id": "innocent-effectiveness",
   "metadata": {},
   "outputs": [],
   "source": [
    "struct Wierzcholek* usun_Drzewo(struct Wierzcholek* drzewo)\n",
    "{\n",
    "\tif (drzewo == nullptr) return drzewo;\n",
    "\tusun_Drzewo(drzewo->lewy);\n",
    "\tusun_Drzewo(drzewo->prawy);\n",
    "\tfree(drzewo);\n",
    "\treturn nullptr;\n",
    "}"
   ]
  },
  {
   "cell_type": "markdown",
   "id": "objective-robinson",
   "metadata": {},
   "source": [
    "Jesli drzewo jest puste zwraca prawde, jesli nie zwraca falsz."
   ]
  },
  {
   "cell_type": "code",
   "execution_count": null,
   "id": "soviet-bikini",
   "metadata": {},
   "outputs": [],
   "source": [
    "bool czy_pusteDrzewo(struct Wierzcholek* drzewo)\n",
    "{\n",
    "\treturn (drzewo == nullptr);\n",
    "}"
   ]
  },
  {
   "cell_type": "markdown",
   "id": "incorrect-fruit",
   "metadata": {},
   "source": [
    "Funkcja main testuje instrukcje zawarte w poleceniu."
   ]
  },
  {
   "cell_type": "code",
   "execution_count": null,
   "id": "assisted-yellow",
   "metadata": {},
   "outputs": [],
   "source": [
    "int main()\n",
    "{\n",
    "\tprintf(czy_pusteDrzewo(bst) ? \"Drzewo jest puste\\n\" : \"Drzewo nie jest puste\\n\");\n",
    "\tbst = wstaw_doDrzewa(bst, 5);\n",
    "\tbst = wstaw_doDrzewa(bst, 3);\n",
    "\tbst = wstaw_doDrzewa(bst, 7);\n",
    "\tbst = wstaw_doDrzewa(bst, 4);\n",
    "\tbst = wstaw_doDrzewa(bst, 2);\n",
    "\tprintf(czy_pusteDrzewo(bst) ? \"Drzewo jest puste\\n\" : \"Drzewo nie jest puste\\n\");\n",
    "\tprintf(\"Drzewo zawiera element o wartosci 3: %d\\n\", czy_Element(bst, 3));\n",
    "\tprintf(\"Drzewo zawiera element o wartosci 9: %d\\n\", czy_Element(bst, 9));\n",
    "\twyprowadz_Drzewo(bst);\n",
    "\tbst = usun_zDrzewa(bst, 4);\n",
    "\twyprowadz_Drzewo(bst);\n",
    "\tbst = usun_zDrzewa(bst, 8);\n",
    "\tprintf(\"Poziom drzewa: %d\\n\", oblicz_Poziom(bst));\n",
    "\tbst = usun_Drzewo(bst);\n",
    "\tprintf(czy_pusteDrzewo(bst) ? \"Drzewo jest puste\\n\" : \"Drzewo nie jest puste\\n\");\n",
    "}"
   ]
  }
 ],
 "metadata": {
  "kernelspec": {
   "display_name": "C++14",
   "language": "C++14",
   "name": "xcpp14"
  },
  "language_info": {
   "codemirror_mode": "text/x-c++src",
   "file_extension": ".cpp",
   "mimetype": "text/x-c++src",
   "name": "c++",
   "version": "14"
  }
 },
 "nbformat": 4,
 "nbformat_minor": 5
}
