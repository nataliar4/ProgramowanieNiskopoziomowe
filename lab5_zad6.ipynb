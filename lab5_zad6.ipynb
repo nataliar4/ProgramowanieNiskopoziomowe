{
 "cells": [
  {
   "cell_type": "markdown",
   "id": "executed-monitor",
   "metadata": {},
   "source": [
    "# PROGRAMOWANIE NISKOPOZIOMOWE\n",
    "## laboratorium 5 zadanie 6"
   ]
  },
  {
   "cell_type": "markdown",
   "id": "biological-opportunity",
   "metadata": {},
   "source": [
    "Porównaj eksperymentalnie złożoność algorytmów obsługi odpowiadających sobie: tablicy dynamicznej oraz\n",
    "listy jednokierunkowej. W tym celu przeprowadź 1000 losowań 300-elementowych ciągów liczb całkowitych,\n",
    "o wartościach z przedziału <0;1000>. Dla każdego wylosowanego ciągu, zapisanego w tablicy statycznej\n",
    "o rozmiarze 300, wykonaj:\n",
    "- generację tablicy dynamicznej i zapis do tej tablicy 300 wygenerowanych liczb oraz utworzenie listy\n",
    "jednokierunkowej z 300 wygenerowanych liczb,\n",
    "- posortowanie tablicy dynamicznej przy użyciu pewnego algorytmu sortowania (S) oraz posortowanie\n",
    "listy jednokierunkowej przy użyciu tego samego algorytmu S,\n",
    "- wyprowadzenie zawartości tablicy dynamicznej, po 10 liczb w wierszu, na standardowe wyjście oraz\n",
    "wyprowadzenie zawartości listy jednokierunkowej, po 10 liczb w wierszu, na standardowe wyjście.\n",
    "\n",
    "Zmierz czas wykonywania każdej operacji dla każdego wylosowanego ciągu. Porównaj uśrednione czasy\n",
    "generacji, sortowania i wyprowadzania elementów dla tablicy dynamicznej i listy jednokierunkowej.\n",
    "Wyprowadź te czasy na wyjście, opatrując odpowiednim komentarzem. Wyciągnij wnioski i umieść je\n",
    "na końcu programu.\n",
    "Rozwiąż zadanie przy użyciu stosownych, odpowiednio sparametryzowanych funkcji."
   ]
  },
  {
   "cell_type": "markdown",
   "id": "middle-flash",
   "metadata": {},
   "source": [
    "**Wykorzystywane biblioteki**"
   ]
  },
  {
   "cell_type": "code",
   "execution_count": null,
   "id": "bottom-albert",
   "metadata": {},
   "outputs": [],
   "source": [
    "#include <stdio.h>\n",
    "#include <stdlib.h>\n",
    "#include <stdbool.h>\n",
    "#include <time.h>\n",
    "#include <math.h>\n",
    "#include <chrono>\n",
    "using namespace std::chrono;"
   ]
  },
  {
   "cell_type": "markdown",
   "id": "oriental-scale",
   "metadata": {},
   "source": [
    "**Lista jednokierunkowa**"
   ]
  },
  {
   "cell_type": "markdown",
   "id": "congressional-there",
   "metadata": {},
   "source": [
    "definiowanie typu listaJednokierunkowa w którym to kazdy element ma swoja wartosc oraz wskaznik na element kolejny."
   ]
  },
  {
   "cell_type": "code",
   "execution_count": null,
   "id": "located-strengthening",
   "metadata": {},
   "outputs": [],
   "source": [
    "typedef struct listaJednokierunkowa {\n",
    "\tint wartosc;\n",
    "\tlistaJednokierunkowa* nastepny;\n",
    "} listaJednokierunkowa;"
   ]
  },
  {
   "cell_type": "markdown",
   "id": "dominant-syndication",
   "metadata": {},
   "source": [
    "**Deklaracje funkcji**"
   ]
  },
  {
   "cell_type": "code",
   "execution_count": null,
   "id": "hollow-coalition",
   "metadata": {},
   "outputs": [],
   "source": [
    "//losowanie liczby z zakresu <min;max>\n",
    "int losowaLiczba(int min, int max);\n",
    "\n",
    "//tworzenie tablicy 300 liczb losowych z zakresu <0;1000>\n",
    "void wypelnijLosowymi(int* tablica, int rozmiar = 300, int min = 0, int max = 1000);\n",
    "\n",
    "//tworzenie tablicy dynamicznej na podstawie tablicy losowych liczb\n",
    "int* wygenerujTablice(int* losowe, int rozmiar = 300);\n",
    "\n",
    "//tworzenie listy jednokierunkowej na podstawie tablicy losowych liczb\n",
    "listaJednokierunkowa* wygenerujListe(int* losowe, int rozmiar = 300);\n",
    "\n",
    "//wypisywanie tablicy dynamicznej na konsole\n",
    "void wypiszTablice(int* tablica, int rozmiar = 300);\n",
    "\n",
    "//wypisywanie listy jednokierunkowej na konsole\n",
    "void wypiszListe(listaJednokierunkowa* lista, int rozmiar = 300);\n",
    "\n",
    "//sortowanie tablicy dynamicznej\n",
    "void sortowanieBabelkoweTablica(int* tablica, int rozmiar = 300);\n",
    "\n",
    "//sortowanie listy jednokierunkowej\n",
    "void sortowanieBabelkoweLista(listaJednokierunkowa* lista, int rozmiar = 300);"
   ]
  },
  {
   "cell_type": "code",
   "execution_count": null,
   "id": "accredited-rough",
   "metadata": {},
   "outputs": [],
   "source": [
    "int losowaLiczba(int min, int max) {\n",
    "\treturn (rand() % (max - min + 1)) + min;\n",
    "}"
   ]
  },
  {
   "cell_type": "code",
   "execution_count": null,
   "id": "signed-circulation",
   "metadata": {},
   "outputs": [],
   "source": [
    "void wypelnijLosowymi(int* tablica, int rozmiar = 300, int min = 0, int max = 1000) {\n",
    "\tfor (int i = 0; i < rozmiar; i++) {\n",
    "\t\ttablica[i] = losowaLiczba(min, max);\n",
    "\t}\n",
    "}"
   ]
  },
  {
   "cell_type": "markdown",
   "id": "preceding-cleanup",
   "metadata": {},
   "source": [
    "\tTworzenie zarowno tablicy jak i listy jednokierunkowej w powyzszej implementacji posiada zlozonosc O(n).\n",
    "\tW klasycznej implementacji dodanie jednego elementu do listy jednokierunkowej zawiera O(n) operacji wiec\n",
    "\tdodanie n elementow zajmuje O(n^2) lecz dodawanie wszystkich elementow jeden po drugim nie szukajac za\n",
    "\tkazdym razem konca pozwala na przyspieszenie tego procesu.\n",
    "\tCzas tworzenia listy jednokierunkowej jest jednak wyzszy i jest to zwiazane z wieksza iloscia operacji\n",
    "\twymaganych do utworzenia struktury."
   ]
  },
  {
   "cell_type": "code",
   "execution_count": null,
   "id": "modified-columbus",
   "metadata": {},
   "outputs": [],
   "source": [
    "int* wygenerujTablice(int* losowe, int rozmiar = 300) {\n",
    "\tint* tablica = (int*)malloc(rozmiar * sizeof(int)); //alokacja pamieci\n",
    "\tfor (int i = 0; i < rozmiar; i++) {\n",
    "\t\ttablica[i] = losowe[i]; //wypelnianie tablicy wartosciami z tablicy liczb losowych z analogicznych pozycji\n",
    "\t}\n",
    "\treturn tablica;\n",
    "}"
   ]
  },
  {
   "cell_type": "code",
   "execution_count": null,
   "id": "daily-chicago",
   "metadata": {},
   "outputs": [],
   "source": [
    "listaJednokierunkowa* wygenerujListe(int* losowe, int rozmiar = 300) {\n",
    "\tlistaJednokierunkowa* lista = (listaJednokierunkowa*)malloc(sizeof(listaJednokierunkowa));\n",
    "\tlistaJednokierunkowa* wskaznik = lista;\n",
    "\tfor (int i = 0; i < rozmiar; i++) {\n",
    "\t\twskaznik->wartosc = losowe[i];\n",
    "\t\twskaznik->nastepny = (listaJednokierunkowa*)malloc(sizeof(listaJednokierunkowa));\n",
    "\t\twskaznik = wskaznik->nastepny;\n",
    "\t}\n",
    "\treturn lista;\n",
    "}"
   ]
  },
  {
   "cell_type": "markdown",
   "id": "clinical-reporter",
   "metadata": {},
   "source": [
    "\tWypisywanie wszystkich elementow dla obu zbiorow zajmuje najwiecej czasu ale jest to czas zwiazany z\n",
    "\twypisaniem elementow na standardowe wyjscie i nie jest on zalezny od zbioru, tj dla obu z nich czasy sa\n",
    "\tpraktycznie identyczne."
   ]
  },
  {
   "cell_type": "code",
   "execution_count": null,
   "id": "shared-receptor",
   "metadata": {},
   "outputs": [],
   "source": [
    "void wypiszTablice(int* tablica, int rozmiar = 300) {\n",
    "\tprintf(\"Tablica: \\n\");\n",
    "\tfor (int i = 0; i < rozmiar; i++) {\n",
    "\t\tprintf(\"%d \", tablica[i]);\n",
    "\t\tif (!((i + 1) % 10)) printf(\"\\n\");\n",
    "\t}\n",
    "\tprintf(\"\\n\");\n",
    "}"
   ]
  },
  {
   "cell_type": "code",
   "execution_count": null,
   "id": "consistent-affair",
   "metadata": {},
   "outputs": [],
   "source": [
    "void wypiszListe(listaJednokierunkowa* lista, int rozmiar = 300) {\n",
    "\tprintf(\"\\nLista: \\n\");\n",
    "\tlistaJednokierunkowa* wskaznik = lista;\n",
    "\tfor (int i = 0; i < rozmiar; i++) {\n",
    "\t\tprintf(\"%d \", wskaznik->wartosc);\n",
    "\t\tif (!((i + 1) % 10)) printf(\"\\n\");\n",
    "\t\twskaznik = wskaznik->nastepny;\n",
    "\t}\n",
    "\tprintf(\"\\n\");\n",
    "}"
   ]
  },
  {
   "cell_type": "markdown",
   "id": "revised-claim",
   "metadata": {},
   "source": [
    "\tSortowanie obu struktur za pomoca sortowania babelkowego posiada zlozonosc O(n^2) i czasy sa praktycznie\n",
    "\tidentyczne przez fakt, iz ten konkretny algorytm co iteracje dokonuje porownan dla elementow od indeksu\n",
    "\t0 do n-numer_iteracji co sprawia, iz nie dotycza go ograniczenia listy jednokierunkowej (brak dostepu do\n",
    "\telementow w srodku zbioru bez sprawdzenia poprzednich elementow). Przy innym algorytmie, np dla\n",
    "\tsortowania stogowego, roznice byly by znacznie bardziej zauwazalne, tj sortowanie listy jednokierunkowej\n",
    "\tbylo by duzo wolniejsze."
   ]
  },
  {
   "cell_type": "code",
   "execution_count": null,
   "id": "comparable-exhibition",
   "metadata": {},
   "outputs": [],
   "source": [
    "void sortowanieBabelkoweTablica(int* tablica, int rozmiar = 300) {\n",
    "\tfor (int i = 0; i < rozmiar - 1; i++) {\n",
    "\t\tfor (int j = 0; j < rozmiar - i - 1; j++) {\n",
    "\t\t\tif (tablica[j] > tablica[j + 1]) {\n",
    "\t\t\t\tint lewa = tablica[j];\n",
    "\t\t\t\tint prawa = tablica[j + 1];\n",
    "\t\t\t\ttablica[j] = prawa;\n",
    "\t\t\t\ttablica[j + 1] = lewa;\n",
    "\t\t\t}\n",
    "\t\t}\n",
    "\t}\n",
    "}"
   ]
  },
  {
   "cell_type": "code",
   "execution_count": null,
   "id": "handed-observer",
   "metadata": {},
   "outputs": [],
   "source": [
    "void sortowanieBabelkoweLista(listaJednokierunkowa* lista, int rozmiar = 300) {\n",
    "\tfor (int i = 0; i < rozmiar - 1; i++) {\n",
    "\t\tlistaJednokierunkowa* lewa = lista;\n",
    "\t\tlistaJednokierunkowa* prawa = lista->nastepny;\n",
    "\t\tfor (int j = 0; j < rozmiar - i - 1; j++) {\n",
    "\t\t\tif (lewa->wartosc > prawa->wartosc) {\n",
    "\t\t\t\tint l = lewa->wartosc;\n",
    "\t\t\t\tint p = prawa->wartosc;\n",
    "\t\t\t\tlewa->wartosc = p;\n",
    "\t\t\t\tprawa->wartosc = l;\n",
    "\t\t\t}\n",
    "\t\t\tlewa = lewa->nastepny;\n",
    "\t\t\tprawa = prawa->nastepny;\n",
    "\t\t}\n",
    "\t}\n",
    "}"
   ]
  },
  {
   "cell_type": "markdown",
   "id": "reduced-essex",
   "metadata": {},
   "source": [
    "**Funkcja main**"
   ]
  },
  {
   "cell_type": "markdown",
   "id": "developed-firewall",
   "metadata": {},
   "source": [
    "Poniewaz time.h posiada bardzo niedokadne odczyty, uzyty zostal modul chrono, ktory jest w stanie dokonac odczytu pomiarow tak malych rozmiarow."
   ]
  },
  {
   "cell_type": "code",
   "execution_count": null,
   "id": "simplified-giving",
   "metadata": {},
   "outputs": [],
   "source": [
    "int main() {\n",
    "\tsrand(time(NULL));\n",
    "\tint iloscSortowan = 1000;\n",
    "\tint losowe[300];\n",
    "\tdouble lacznyczas1 = 0; // generowanie tablicy\n",
    "\tdouble lacznyczas2 = 0; // generowanie listy\n",
    "\tdouble lacznyczas3 = 0; // sortowanie tablicy\n",
    "\tdouble lacznyczas4 = 0; // sortowanie listy\n",
    "\tdouble lacznyczas5 = 0; // wypisywanie tabicy\n",
    "\tdouble lacznyczas6 = 0; // wypisywanie listy\n",
    "\tfor (int i = 0; i < iloscSortowan; i++) {\n",
    "\t\twypelnijLosowymi(losowe);\n",
    "\n",
    "        //generowanie tablicy\n",
    "\t\tauto start1 = steady_clock::now();\n",
    "\t\tint* tablica = wygenerujTablice(losowe);\n",
    "\t\tauto stop1 = steady_clock::now();\n",
    "\n",
    "        //generowanie listy\n",
    "\t\tauto start2 = steady_clock::now();\n",
    "\t\tlistaJednokierunkowa* lista = wygenerujListe(losowe);\n",
    "\t\tauto stop2 = steady_clock::now();\n",
    "\n",
    "        //sortowanie tablicy\n",
    "\t\tauto start3 = steady_clock::now();\n",
    "\t\tsortowanieBabelkoweTablica(tablica);\n",
    "\t\tauto stop3 = steady_clock::now();\n",
    "\n",
    "        //sortowanie listy\n",
    "\t\tauto start4 = steady_clock::now();\n",
    "\t\tsortowanieBabelkoweLista(lista);\n",
    "\t\tauto stop4 = steady_clock::now();\n",
    "\n",
    "        //wypisywanie tablicy\n",
    "\t\tauto start5 = steady_clock::now();\n",
    "\t\twypiszTablice(tablica);\n",
    "\t\tauto stop5 = steady_clock::now();\n",
    "\n",
    "        //wypisywanie listy\n",
    "\t\tauto start6 = steady_clock::now();\n",
    "\t\twypiszListe(lista);\n",
    "\t\tauto stop6 = steady_clock::now();\n",
    "\n",
    "\t\tlacznyczas1 += duration_cast<microseconds>(stop1 - start1).count();\n",
    "\t\tlacznyczas2 += duration_cast<microseconds>(stop2 - start2).count();\n",
    "\t\tlacznyczas3 += duration_cast<microseconds>(stop3 - start3).count();\n",
    "\t\tlacznyczas4 += duration_cast<microseconds>(stop4 - start4).count();\n",
    "\t\tlacznyczas5 += duration_cast<microseconds>(stop5 - start5).count();\n",
    "\t\tlacznyczas6 += duration_cast<microseconds>(stop6 - start6).count();\n",
    "\t}\n",
    "\tprintf(\"Sredni czas wynosi...\\n\");\n",
    "\tprintf(\"Wygenerowanie tablicy: %lf ms\\n\", lacznyczas1 / iloscSortowan);\n",
    "\tprintf(\"Wygenerowanie listy jednokierunkowej: %lf ms\\n\", lacznyczas2 / iloscSortowan);\n",
    "\tprintf(\"Sortowanie tablicy: %lf ms\\n\", lacznyczas3 / iloscSortowan);\n",
    "\tprintf(\"Sortowanie listy jednokierunkowej: %lf ms\\n\", lacznyczas4 / iloscSortowan);\n",
    "\tprintf(\"Wypisanie tablicy: %lf ms\\n\", lacznyczas5 / iloscSortowan);\n",
    "\tprintf(\"Wypisanie listy jednokierunkowej: %lf ms\\n\", lacznyczas6 / iloscSortowan);\n",
    "\n",
    "\treturn 0;\n",
    "}"
   ]
  }
 ],
 "metadata": {
  "kernelspec": {
   "display_name": "C++14",
   "language": "C++14",
   "name": "xcpp14"
  },
  "language_info": {
   "codemirror_mode": "text/x-c++src",
   "file_extension": ".cpp",
   "mimetype": "text/x-c++src",
   "name": "c++",
   "version": "14"
  }
 },
 "nbformat": 4,
 "nbformat_minor": 5
}
