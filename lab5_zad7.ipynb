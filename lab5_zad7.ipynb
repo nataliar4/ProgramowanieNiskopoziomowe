{
 "cells": [
  {
   "cell_type": "markdown",
   "id": "difficult-disease",
   "metadata": {},
   "source": [
    "# PROGRAMOWANIE NISKOPOZIOMOWE\n",
    "## laboratorium 5 zadanie 7"
   ]
  },
  {
   "cell_type": "markdown",
   "id": "timely-checklist",
   "metadata": {},
   "source": [
    "Porównaj eksperymentalnie złożoność trzech algorytmów sortowania: bąbelkowego, stogowego i szybkiego.\n",
    "Użyj/zdefiniuj w tym celu trzy różne funkcje sortowania ciągu liczb całkowitych (bąbelkowe, stogowe\n",
    "i szybkie), a także uniwersalną funkcję pomiaru (pomierz) do realizacji pomiarów dla wskazanego ciągu liczb\n",
    "i wskazanego algorytmu sortowania (parametr przekazany przez wskaźnik funkcji!). Przeprowadź 1000\n",
    "losowań ciągów 300-elementowych, o wartościach z przedziału <0;1000>. Każdy wylosowany ciąg posortuj\n",
    "trzema algorytmami. Porównaj uśrednione czasy sortowania. Wyprowadź te czasy na standardowe wyjście,\n",
    "opatrując odpowiednim komentarzem. Wyciągnij wnioski i umieść je na końcu programu.\n",
    "Oto format danych oczekiwanych na standardowym wyjściu:\n",
    "Dane:\n",
    "BA t1\n",
    "ST t2\n",
    "SZ t3\n",
    "gdzie t1 oznacza średni czas sortowania ciągu 300-elementowego metodą bąbelkową, t2 – średni czas\n",
    "sortowania stogowego, zaś t3 – średni czas sortowania szybkiego. Oto sugerowana postać nagłówka funkcji\n",
    "przeznaczonej do pomiarów:"
   ]
  },
  {
   "cell_type": "code",
   "execution_count": null,
   "id": "opponent-shirt",
   "metadata": {},
   "outputs": [],
   "source": [
    "int pomierz(int *Dane, int Rozmiar, void(*sort)(int[], int))"
   ]
  },
  {
   "cell_type": "markdown",
   "id": "polish-evolution",
   "metadata": {},
   "source": [
    "Rozwiąż zadanie przy użyciu stosownych, odpowiednio sparametryzowanych funkcji, w tym trzech funkcji\n",
    "sortowania ciągu. Pamiętaj, by za każdym razem porównywać czasy sortowania tego samego ciągu."
   ]
  },
  {
   "cell_type": "markdown",
   "id": "continental-alfred",
   "metadata": {},
   "source": [
    "**Wykorzystywane biblioteki**"
   ]
  },
  {
   "cell_type": "code",
   "execution_count": null,
   "id": "massive-spiritual",
   "metadata": {},
   "outputs": [],
   "source": [
    "#include <stdio.h>\n",
    "#include <stdlib.h>\n",
    "#include <time.h>\n",
    "#include <chrono>\n",
    "using namespace std::chrono;"
   ]
  },
  {
   "cell_type": "markdown",
   "id": "printable-address",
   "metadata": {},
   "source": [
    "**Deklaracje funkcji**"
   ]
  },
  {
   "cell_type": "markdown",
   "id": "welsh-reconstruction",
   "metadata": {},
   "source": [
    "W tym zadaniu wykorzystane zostaly funkcje z zadania 6: losowaLiczba, wypelnijLosowymi, wygenerujTablice oraz sortowanieBabelkoweTablica."
   ]
  },
  {
   "cell_type": "code",
   "execution_count": null,
   "id": "executed-indonesian",
   "metadata": {},
   "outputs": [],
   "source": [
    "int losowaLiczba(int min, int max);\n",
    "void wypelnijLosowymi(int* tablica, int rozmiar = 300, int min = 0, int max = 1000);\n",
    "int* wygenerujTablice(int* losowe, int rozmiar = 300);\n",
    "void sortowanieBabelkoweTablica(int* tablica, int rozmiar = 300);\n",
    "double pomiar(int* tablica, int rozmiar, void(*sort)(int*, int));\n",
    "void stoguj(int* tablica, int rozmiar, int i);\n",
    "void sortowanieStogoweTablica(int* tablica, int rozmiar = 300);\n",
    "int sortowanieSzybkieTablica(int* tablica, int lewa, int prawa, int rozmiar = 300);\n",
    "void sortowanieSzybkieTablicaInicjacja(int* tablica, int rozmiar);"
   ]
  },
  {
   "cell_type": "markdown",
   "id": "violent-humidity",
   "metadata": {},
   "source": [
    "**Definicje funkcji**"
   ]
  },
  {
   "cell_type": "markdown",
   "id": "fatty-substitute",
   "metadata": {},
   "source": [
    "Funkcja losujaca liczbe z zakresu <min;max>"
   ]
  },
  {
   "cell_type": "code",
   "execution_count": null,
   "id": "normal-reverse",
   "metadata": {},
   "outputs": [],
   "source": [
    "int losowaLiczba(int min, int max) {\n",
    "\treturn (rand() % (max - min + 1)) + min;\n",
    "}"
   ]
  },
  {
   "cell_type": "markdown",
   "id": "embedded-dayton",
   "metadata": {},
   "source": [
    "Funkcja wypelniajaca tablice o podanym rozmiarze (domyslnie 300) liczbami z zakresu od min do max (domyslnie od 0 do 1000)"
   ]
  },
  {
   "cell_type": "code",
   "execution_count": null,
   "id": "elegant-index",
   "metadata": {},
   "outputs": [],
   "source": [
    "void wypelnijLosowymi(int* tablica, int rozmiar = 300, int min = 0, int max = 1000) {\n",
    "\tfor (int i = 0; i < rozmiar; i++) {\n",
    "\t\ttablica[i] = losowaLiczba(min, max);\n",
    "\t}\n",
    "}"
   ]
  },
  {
   "cell_type": "markdown",
   "id": "unlikely-keeping",
   "metadata": {},
   "source": [
    "Funkcja generujaca tablice dynamiczna o podanym rozmiarze (domyslnie 300) wypelniona liczbami z tablicy liczb losowych z analogicznych pozycji."
   ]
  },
  {
   "cell_type": "code",
   "execution_count": null,
   "id": "great-champagne",
   "metadata": {},
   "outputs": [],
   "source": [
    "int* wygenerujTablice(int* losowe, int rozmiar = 300) {\n",
    "\tint* tablica = (int*)malloc(rozmiar * sizeof(int));\n",
    "\tfor (int i = 0; i < rozmiar; i++) {\n",
    "\t\ttablica[i] = losowe[i];\n",
    "\t}\n",
    "\treturn tablica;\n",
    "}"
   ]
  },
  {
   "cell_type": "markdown",
   "id": "unknown-shadow",
   "metadata": {},
   "source": [
    "Funkcja sotujaca tablice przy uzyciu algorytmu sortowania babelkowego. Jest to najwolniejszy z testowanych w tym zadaniu algorytmow sortowania, gdyz jego zlozonosc wynosi O(n^2) co wynika z faktu, iz n razy musi przejsc przez (n minus iteracja)\n",
    "elementow"
   ]
  },
  {
   "cell_type": "code",
   "execution_count": null,
   "id": "quantitative-semester",
   "metadata": {},
   "outputs": [],
   "source": [
    "void sortowanieBabelkoweTablica(int* tablica, int rozmiar = 300) {\n",
    "\tfor (int i = 0; i < rozmiar - 1; i++) {\n",
    "\t\tfor (int j = 0; j < rozmiar - i - 1; j++) {\n",
    "\t\t\tif (tablica[j] > tablica[j + 1]) {\n",
    "\t\t\t\tint lewa = tablica[j];\n",
    "\t\t\t\tint prawa = tablica[j + 1];\n",
    "\t\t\t\ttablica[j] = prawa;\n",
    "\t\t\t\ttablica[j + 1] = lewa;\n",
    "\t\t\t}\n",
    "\t\t}\n",
    "\t}\n",
    "}"
   ]
  },
  {
   "cell_type": "markdown",
   "id": "missing-sapphire",
   "metadata": {},
   "source": [
    "Funkcje niewystepujace w zadaniach poprzednich"
   ]
  },
  {
   "cell_type": "markdown",
   "id": "drawn-indian",
   "metadata": {},
   "source": [
    "Funkcja realizujaca pomiary dla wskazanego ciągu liczb i wskazanego algorytmu sortowania."
   ]
  },
  {
   "cell_type": "code",
   "execution_count": null,
   "id": "super-shoulder",
   "metadata": {},
   "outputs": [],
   "source": [
    "double pomiar(int* tablica, int rozmiar, void(*sort)(int*, int)) {\n",
    "\tauto start1 = steady_clock::now();\n",
    "\tsort(tablica, rozmiar);\n",
    "\tauto stop1 = steady_clock::now();\n",
    "\treturn (double)duration_cast<microseconds>(stop1 - start1).count();\n",
    "}\n"
   ]
  },
  {
   "cell_type": "markdown",
   "id": "geographic-transition",
   "metadata": {},
   "source": [
    "Zaraz po algorytmie babelkowym znajduje sie sortowanie przez kopcowanie, ktore majac ta sama zlozonosc co sortowanie szybkie,\n",
    "czyli O(n log(n)), wymaga w każdej iteracji wykonania wiekszej ilosci operacji co wplywa na to, ze jest on wolniejszy."
   ]
  },
  {
   "cell_type": "code",
   "execution_count": null,
   "id": "available-transport",
   "metadata": {},
   "outputs": [],
   "source": [
    "void stoguj(int* tablica, int rozmiar, int i) {\n",
    "\tint lewa = i * 2 + 1;\n",
    "\tint prawa = i * 2 + 2;\n",
    "\tint doZmiany = -1;\n",
    "\tif (prawa < rozmiar && lewa < rozmiar) {\n",
    "\t\tif (tablica[prawa] > tablica[i] || tablica[lewa] > tablica[i]) {\n",
    "\t\t\tdoZmiany = (tablica[lewa] > tablica[prawa]) ? lewa : prawa;\n",
    "\t\t}\n",
    "\t}\n",
    "\telse if (lewa < rozmiar && tablica[lewa] > tablica[i]) doZmiany = lewa;\n",
    "\tif (doZmiany != -1) {\n",
    "\t\tint tmp = tablica[i];\n",
    "\t\ttablica[i] = tablica[doZmiany];\n",
    "\t\ttablica[doZmiany] = tmp;\n",
    "\t\tstoguj(tablica, rozmiar, doZmiany);\n",
    "\t}\n",
    "}"
   ]
  },
  {
   "cell_type": "code",
   "execution_count": null,
   "id": "invalid-pathology",
   "metadata": {},
   "outputs": [],
   "source": [
    "void sortowanieStogoweTablica(int* tablica, int rozmiar = 300) {\n",
    "\tint* nowa = (int*)malloc(rozmiar * sizeof(int));\n",
    "\tint nowaRozmiar = 0;\n",
    "\tint n = rozmiar;\n",
    "\tfor (int j = n / 2; j >= 0; j--) {\n",
    "\t\tstoguj(tablica, n, j);\n",
    "\t}\n",
    "\tfor (int i = n; i > 0; i--) {\n",
    "\t\tint tmp = tablica[n - 1];\n",
    "\t\ttablica[n - 1] = tablica[0];\n",
    "\t\ttablica[0] = tmp;\n",
    "\t\tnowa[rozmiar - 1 - nowaRozmiar++] = tablica[--n];\n",
    "\t\tstoguj(tablica, n, 0);\n",
    "\t}\n",
    "\tfor (int i = 0; i < rozmiar; i++) {\n",
    "\t\ttablica[i] = nowa[i];\n",
    "\t}\n",
    "}"
   ]
  },
  {
   "cell_type": "markdown",
   "id": "weighted-barrier",
   "metadata": {},
   "source": [
    "Sortowanie szybkie jest najszybszym algorytmem dla tego zestawu danych, choc w tej implementacji radzi on sobie najlepiej dla zestawu danych losowych nie monotonicznych co sprawia, ze jest on jedynym z tych 3 algorytmow, ktory wykazuje duza\n",
    "roznice czasowa w zaleznosci od danych wejsciowych, co jest nieodczuwalne dla wykonanych testow."
   ]
  },
  {
   "cell_type": "code",
   "execution_count": null,
   "id": "received-communist",
   "metadata": {},
   "outputs": [],
   "source": [
    "int sortowanieSzybkieTablica(int* tablica, int lewa, int prawa, int rozmiar = 300) {\n",
    "\tint tmp;\n",
    "\tif (prawa - lewa < 1) return 0;\n",
    "\tint i = lewa;\n",
    "\tint klucz = tablica[prawa];\n",
    "\tfor (int j = i; j < prawa; j++) {\n",
    "\t\tif (tablica[j] < klucz) {\n",
    "\t\t\ttmp = tablica[j];\n",
    "\t\t\ttablica[j] = tablica[i];\n",
    "\t\t\ttablica[i] = tmp;\n",
    "\t\t\ti++;\n",
    "\t\t}\n",
    "\t}\n",
    "\ttmp = tablica[prawa];\n",
    "\ttablica[prawa] = tablica[i];\n",
    "\ttablica[i] = tmp;\n",
    "\tsortowanieSzybkieTablica(tablica, lewa, i - 1, rozmiar);\n",
    "\tsortowanieSzybkieTablica(tablica, i + 1, prawa, rozmiar);\n",
    "\treturn 1;\n",
    "}"
   ]
  },
  {
   "cell_type": "code",
   "execution_count": null,
   "id": "blond-experience",
   "metadata": {},
   "outputs": [],
   "source": [
    "void sortowanieSzybkieTablicaInicjacja(int* tablica, int rozmiar) {\n",
    "\tint res = sortowanieSzybkieTablica(tablica, 0, rozmiar - 1, rozmiar);\n",
    "}"
   ]
  },
  {
   "cell_type": "markdown",
   "id": "portable-destruction",
   "metadata": {},
   "source": [
    "**Funkcja main**"
   ]
  },
  {
   "cell_type": "code",
   "execution_count": null,
   "id": "classical-indonesian",
   "metadata": {},
   "outputs": [],
   "source": [
    "int main() {\n",
    "\n",
    "\tdouble BAczas = 0;\n",
    "\tdouble STczas = 0;\n",
    "\tdouble SZczas = 0;\n",
    "\tint iloscSortowan = 1000;\n",
    "\tint losowe[300];\n",
    "    \n",
    "\tfor (int i = 0; i < iloscSortowan; i++) {\n",
    "\t\twypelnijLosowymi(losowe);\n",
    "\n",
    "\t\tint* BAtablica = wygenerujTablice(losowe);\n",
    "\t\tint* STtablica = wygenerujTablice(losowe);\n",
    "\t\tint* SZtablica = wygenerujTablice(losowe);\n",
    "\n",
    "\t\tBAczas += pomiar(BAtablica, 300, sortowanieBabelkoweTablica);\n",
    "\t\tSTczas += pomiar(STtablica, 300, sortowanieStogoweTablica);\n",
    "\t\tSZczas += pomiar(SZtablica, 300, sortowanieSzybkieTablicaInicjacja);\n",
    "\t}\n",
    "    \n",
    "\tprintf(\"BA %lf ms\\n\", BAczas / iloscSortowan);\n",
    "\tprintf(\"ST %lf ms\\n\", STczas / iloscSortowan);\n",
    "\tprintf(\"SZ %lf ms\\n\", SZczas / iloscSortowan);\n",
    "    \n",
    "\treturn 0;\n",
    "\n",
    "}"
   ]
  }
 ],
 "metadata": {
  "kernelspec": {
   "display_name": "C++14",
   "language": "C++14",
   "name": "xcpp14"
  },
  "language_info": {
   "codemirror_mode": "text/x-c++src",
   "file_extension": ".cpp",
   "mimetype": "text/x-c++src",
   "name": "c++",
   "version": "14"
  }
 },
 "nbformat": 4,
 "nbformat_minor": 5
}
