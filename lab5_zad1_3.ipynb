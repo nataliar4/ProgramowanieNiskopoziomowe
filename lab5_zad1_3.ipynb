{
 "cells": [
  {
   "cell_type": "markdown",
   "metadata": {},
   "source": [
    "# PROGRAMOWANIE NISKOPOZIOMOWE\n",
    "## laboratorium 5 zadania 1-3"
   ]
  },
  {
   "cell_type": "markdown",
   "metadata": {},
   "source": [
    "Wykorzystywane biblioteki"
   ]
  },
  {
   "cell_type": "code",
   "execution_count": 2,
   "metadata": {},
   "outputs": [],
   "source": [
    "#include <stdio.h>\n",
    "#include <cmath>\n",
    "#include <time.h>"
   ]
  },
  {
   "cell_type": "markdown",
   "metadata": {},
   "source": [
    "### ZADANIE 1"
   ]
  },
  {
   "cell_type": "markdown",
   "metadata": {},
   "source": [
    "Napisz program obliczajacy wartosc wyrazenia:\n",
    "\\begin{equation}\n",
    "\\sum_{i=1}^{10000} \\frac{1}{i^2}\n",
    "\\end{equation}\n",
    "Sumowanie przeprowadz w kolejnosci od i =1 do 10 000 oraz od i = 10 000 do 1. Porownaj wyniki. Czy sa takie same? Rozwiazanie zadania zaimplementuj przy uzyciu odpowiednich funkcji."
   ]
  },
  {
   "cell_type": "markdown",
   "metadata": {},
   "source": [
    "**Deklaracje funkcji: zadanie 1**"
   ]
  },
  {
   "cell_type": "code",
   "execution_count": 3,
   "metadata": {},
   "outputs": [],
   "source": [
    "double zad1_wyrazenie(int i); //wyrazenie z tresci zadania\n",
    "\n",
    "double sumuj_rosnaco(int dolne_ogr, int gorne_ogr, double(*oblicz_wyrazenie)(int)); //funkcje sumujace wyniki zadanego wyrazenia\n",
    "double sumuj_malejaco(int dolne_ogr, int gorne_ogr, double(*oblicz_wyrazenie)(int));//rosnaco lub malejaco\n",
    "\n",
    "void zad1(); //wywolanie odpowiednich funkcji dla odpowiednich danych"
   ]
  },
  {
   "cell_type": "markdown",
   "metadata": {},
   "source": [
    "**Definicje funkcji: zadanie 1**"
   ]
  },
  {
   "cell_type": "code",
   "execution_count": 4,
   "metadata": {},
   "outputs": [],
   "source": [
    "double zad1_wyrazenie(int i) {\n",
    "\treturn (double)1 / (i * i);\n",
    "}"
   ]
  },
  {
   "cell_type": "code",
   "execution_count": 5,
   "metadata": {},
   "outputs": [],
   "source": [
    "double sumuj_rosnaco(int dolne_ogr, int gorne_ogr, double(*oblicz_wyrazenie)(int)) {\n",
    "\tdouble suma = 0.0;\n",
    "\tfor (int i = dolne_ogr; i <= gorne_ogr; i++) {\n",
    "\t\tsuma += oblicz_wyrazenie(i);\n",
    "\t}\n",
    "\treturn suma;\n",
    "}"
   ]
  },
  {
   "cell_type": "code",
   "execution_count": 6,
   "metadata": {},
   "outputs": [],
   "source": [
    "double sumuj_malejaco(int dolne_ogr, int gorne_ogr, double(*oblicz_wyrazenie)(int)) {\n",
    "\tdouble suma = 0.0;\n",
    "\tfor (int i = dolne_ogr; i >= gorne_ogr; i--) {\n",
    "\t\tsuma += oblicz_wyrazenie(i);\n",
    "\t}\n",
    "\treturn suma;\n",
    "}"
   ]
  },
  {
   "cell_type": "code",
   "execution_count": 9,
   "metadata": {},
   "outputs": [],
   "source": [
    "void zad1() {\n",
    "\tint min, maks;\n",
    "    printf(\"podaj dolne ograniczenie:\");\n",
    "\tscanf_s(\"%d\", &min);\n",
    "\tprintf(\"podaj gorne ograniczenie:\");\n",
    "\tscanf_s(\"%d\", &maks);\n",
    "\tif (double wynik = sumuj_rosnaco(min,maks,zad1_wyrazenie) == sumuj_malejaco(maks,min,zad1_wyrazenie)) {\n",
    "\t\tprintf(\"wynik funkcji niezalezny od kierunku iteracji, wynosi %lf\\n\", wynik);\n",
    "\t}\n",
    "\telse {\n",
    "\t\tprintf(\"Wynik funkcji zalezny od kierunku iteracji.\\n Iterowanie rosnaco: %lf.\\n Iterowanie malejaco: %lf.\\n\", sumuj_rosnaco(min, maks, zad1_wyrazenie), sumuj_malejaco(maks, min, zad1_wyrazenie));\n",
    "\t}\n",
    "}"
   ]
  },
  {
   "cell_type": "markdown",
   "metadata": {},
   "source": [
    "### ZADANIE 2"
   ]
  },
  {
   "cell_type": "markdown",
   "metadata": {},
   "source": [
    "Napisz program obliczający wartosc wyrazenia:\n",
    "\\begin{equation}\n",
    "\\sum_{n=0}^{\\infty}\\frac{(-1)^n}{2n+1}\n",
    "\\end{equation}\n",
    "Przeprowadz obliczenia z zadaną dokladnoscia. Rozwiazanie zadania zaimplementuj przy uzyciu\n",
    "odpowiedniej funkcji.\n",
    "Uzyskana wartosc wyrazenia pomnoz przez 4 i wyswietl na ekranie. Jaka to liczba?  \n",
    "**Odpowiedz: wynik sumowania pomnozony przez 4 zwraca wartosc liczby PI** "
   ]
  },
  {
   "cell_type": "markdown",
   "metadata": {},
   "source": [
    "**Deklaracje funkcji: zadanie 2**"
   ]
  },
  {
   "cell_type": "code",
   "execution_count": 10,
   "metadata": {},
   "outputs": [],
   "source": [
    "double zad2_wyrazenie(int i); //wyrazenie z tresci zadania\n",
    "void zad2();//wywolanie odpowiednich funkcji dla odpowiednich danych"
   ]
  },
  {
   "cell_type": "markdown",
   "metadata": {},
   "source": [
    "**Definicje funkcji: zadanie 2**"
   ]
  },
  {
   "cell_type": "code",
   "execution_count": 12,
   "metadata": {},
   "outputs": [],
   "source": [
    "double zad2_wyrazenie(int i) {\n",
    "\tdouble suma = 0.0;\n",
    "\tint n = 0;\n",
    "\tif (i % 2 == 0) {\n",
    "\t\tsuma += (double)1 / (2 * i + 1);\n",
    "\t}\n",
    "\telse {\n",
    "\t\tsuma += (double)-1 / (2 * i + 1);\n",
    "\t}\n",
    "\treturn suma;\n",
    "}"
   ]
  },
  {
   "cell_type": "code",
   "execution_count": 13,
   "metadata": {},
   "outputs": [],
   "source": [
    "void zad2() {\n",
    "\tprintf(\"Podaj oczekiwana dokladnosc (ilosc miejsc po przecinku):\");\n",
    "\tint dokladnosc;\n",
    "\tscanf_s(\"%d\", &dokladnosc);\n",
    "\tdouble eps = pow(10, -dokladnosc);\n",
    "\tdouble s0 = 0.0, s1 = 0.0, suma = 0.0;\n",
    "\tint i = 0;\n",
    "\n",
    "\tdo {\n",
    "\t\ts0 += zad2_wyrazenie(i);\n",
    "\t\ts1 = s0 + zad2_wyrazenie(++i);\n",
    "\t} while (abs(s1 - s0) > eps);\n",
    "\tprintf(\"Obliczony wynik wyrazenia, pomnozony przez 4 z zadana dokladnoscia: %lf\\n\", 4 * s1);\n",
    "}"
   ]
  },
  {
   "cell_type": "markdown",
   "metadata": {},
   "source": [
    "### ZADANIE 3"
   ]
  },
  {
   "cell_type": "markdown",
   "metadata": {},
   "source": [
    "Zdefiniuj funkcje do działań na macierzach prostokątnych liczbowych, wykonujące:\n",
    "- rezerwację pamięci dla macierzy **rezerwujMacierz**\n",
    "- losowanie zawartości macierzy **losujMacierz**\n",
    "- sumowanie dwóch macierzy **sumujMacierze**\n",
    "- mnożenie dwóch macierzy **mnozMacierze**\n",
    "- obliczanie wykładnika macierzy **obliczWykladnik**\n",
    "\n",
    "Wyposaż funkcje w odpowiednie listy parametrów formalnych i nadaj im odpowiednie typy. Zademonstruj\n",
    "zdefiniowane funkcje w działaniu"
   ]
  },
  {
   "cell_type": "markdown",
   "metadata": {},
   "source": [
    "**Deklaracje funkcji: zadanie 3**"
   ]
  },
  {
   "cell_type": "code",
   "execution_count": 15,
   "metadata": {},
   "outputs": [],
   "source": [
    "int** rezerwujMacierz(int wysokosc, int szerokosc); //rezerwuje miejsce dla macierzy o zadanych wymiarach\n",
    "\n",
    "int losujWartosc(int min, int maks); //funkcja losujaca wartosc z przedzialu <min;maks>\n",
    "\n",
    "int** losujMacierz(int** tablica, int wysokosc, int szerokosc); //wypelnia wczesniej zarezerwowana macierz losowymi wartosciami\n",
    "\n",
    "int** sumujMacierze(int** tablica1, int** tablica2, int wysokosc, int szerokosc); //sumuje 2 macierze o takich samych wymiarach\n",
    "\n",
    "//mnozy macierze, aby bylo to mozliwe szerokosc 1 i wysokosc 2 macierzy musza byc rowne\n",
    "int** mnozMacierze(int** tablica1, int** tablica2, int wysokosc1, int szerokosc1, int wysokosc2, int szerokosc2);\n",
    "\n",
    "//obliczyc wykladnik\n",
    "//void obliczWykladnik();\n",
    "\n",
    "void wypiszMacierz(int** tablica, int wysokosc, int szerokosc); //wypisuje macierz na konsole\n",
    "\n",
    "void zad3();//wywolanie odpowiednich funkcji dla odpowiednich danych"
   ]
  },
  {
   "cell_type": "markdown",
   "metadata": {},
   "source": [
    "**Deklaracje funkcji: zadanie 3**"
   ]
  },
  {
   "cell_type": "markdown",
   "metadata": {},
   "source": [
    "W pierwszym kroku alokuje pamiec dla macierzy o zadanych wymiarach, \n",
    "w kolejnym wypelnia macierz wartosciami poczatkowymi rownymi 0."
   ]
  },
  {
   "cell_type": "code",
   "execution_count": 19,
   "metadata": {},
   "outputs": [],
   "source": [
    "int** rezerwujMacierz(int wysokosc, int szerokosc) {\n",
    "    \n",
    "\tint** tablica = (int**)malloc(wysokosc * sizeof(int*));\n",
    "\tfor (int i = 0; i < wysokosc; i++) {\n",
    "\t\ttablica[i] = (int*)malloc(szerokosc * sizeof(int));\n",
    "\t}\n",
    "    \n",
    "\tfor (int x = 0; x < wysokosc; x++) {\n",
    "\t\tfor (int y = 0; y < szerokosc; y++) {\n",
    "\t\t\ttablica[x][y] = 0;\n",
    "\t\t}\n",
    "\t}\n",
    "\treturn tablica;\n",
    "}"
   ]
  },
  {
   "cell_type": "code",
   "execution_count": 17,
   "metadata": {},
   "outputs": [],
   "source": [
    "int losujWartosc(int min, int maks) {\n",
    "\treturn (rand() % (maks - min + 1) + min);\n",
    "}"
   ]
  },
  {
   "cell_type": "markdown",
   "metadata": {},
   "source": [
    "W celu unikniecia zbyt duzej ilosci argumentow wartosci w macierzy sa losowane z zakresu od 0 do 9."
   ]
  },
  {
   "cell_type": "code",
   "execution_count": 18,
   "metadata": {},
   "outputs": [],
   "source": [
    "int** losujMacierz(int** tablica, int wysokosc, int szerokosc) {\n",
    "\tfor (int i = 0; i < wysokosc; i++) {\n",
    "\t\tfor (int j = 0; j < szerokosc; j++) {\n",
    "\t\t\ttablica[i][j] = losujWartosc(0, 9); \n",
    "\t\t}\n",
    "\t}\n",
    "\treturn tablica;\n",
    "}"
   ]
  },
  {
   "cell_type": "markdown",
   "metadata": {},
   "source": [
    "Najpierw rezerwuje pamiec dla macierzy wynikowej o zadanych wymiarach rownych co do wymiarow sumowanych macierzy.\n",
    "Nastepnie iteruje przez obie macierze rownoczesnie zapisujacy sume wartosci z i-tego wiersza i j-tej kolumny na tozsamym miejscu w macierzy wynikowej zwracanej przez funkcje."
   ]
  },
  {
   "cell_type": "code",
   "execution_count": 20,
   "metadata": {},
   "outputs": [],
   "source": [
    "int** sumujMacierze(int** tablica1, int** tablica2, int wysokosc, int szerokosc) {\n",
    "\tint** tablicaWynikowa = rezerwujMacierz(wysokosc, szerokosc);\n",
    "\tfor (int i = 0; i < wysokosc; i++) {\n",
    "\t\tfor (int j = 0; j < szerokosc; j++) {\n",
    "\t\t\ttablicaWynikowa[i][j] = tablica1[i][j] + tablica2[i][j];\n",
    "\t\t}\n",
    "\t}\n",
    "\treturn tablicaWynikowa;\n",
    "}"
   ]
  },
  {
   "cell_type": "markdown",
   "metadata": {},
   "source": [
    "Mnozenie 2 macierzy wymaga, aby szerokosc pierwszej byla rowna wysokosci drugiej, dodatkowo mnozenie macierzy jest nieprzemienne, wiec jest to jedyna mozliwosc. Z tego powodu funkcja mnozMacierze przyjmujee jako argumenty macierze, oraz wymiary obu macierzy, gdyz w przeciwienstwie do przypadku sumowania macierzy tutaj moga sie one roznic."
   ]
  },
  {
   "cell_type": "code",
   "execution_count": 21,
   "metadata": {},
   "outputs": [],
   "source": [
    "int** mnozMacierze(int** tablica1, int** tablica2, int wysokosc1, int szerokosc1, int wysokosc2, int szerokosc2) {\n",
    "\tif (szerokosc1 == wysokosc2) {\n",
    "\t\tint** tablicaWynikowa = rezerwujMacierz(wysokosc1, szerokosc2);\n",
    "\t\tfor (int n = 0; n < wysokosc1; n++) {\n",
    "\t\t\tfor (int p = 0; p < szerokosc1; p++) {\n",
    "\t\t\t\tfor (int m = 0; m < szerokosc2; m++) {\n",
    "\t\t\t\t\ttablicaWynikowa[n][m] = tablica1[n][p] * tablica2[p][m];\n",
    "\t\t\t\t}\n",
    "\t\t\t}\n",
    "\t\t}\n",
    "\t\treturn tablicaWynikowa;\n",
    "\t}\n",
    "\tprintf(\"nie mozna wymnozyc macierzy, nieodpowiednie wymiary\");\n",
    "\treturn nullptr;\n",
    "}"
   ]
  },
  {
   "cell_type": "markdown",
   "metadata": {},
   "source": [
    "Utworzone zostaly dwie funkcje sluzace do obliczania wyznacznika macierzy w zaleznosci od ich rozmiaru, gdzie dopuszczalne sa macierze 2x2 lub 3x3."
   ]
  },
  {
   "cell_type": "code",
   "execution_count": null,
   "metadata": {},
   "outputs": [],
   "source": [
    "int obliczWykladnik2(int** tablica, int wysokosc, int szerokosc) {\n",
    "\treturn tablica[0][0] * tablica[1][1] - tablica[0][1] * tablica[1][0];\n",
    "}"
   ]
  },
  {
   "cell_type": "code",
   "execution_count": null,
   "metadata": {},
   "outputs": [],
   "source": [
    "int obliczWykladnik3(int** tablica, int wysokosc, int szerokosc) {\n",
    "\treturn tablica[0][0] * tablica[1][1] * tablica[2][2] \n",
    "        + tablica[1][0] * tablica[2][1] * tablica[0][2] \n",
    "        + tablica[2][0] * tablica[0][1] * tablica[1][2]\n",
    "        - tablica[1][0] * tablica[0][1] * tablica[2][2] \n",
    "        - tablica[0][0] * tablica[2][1] * tablica[1][2] \n",
    "        - tablica[2][0] * tablica[1][1] * tablica[0][2];\n",
    "}"
   ]
  },
  {
   "cell_type": "code",
   "execution_count": 22,
   "metadata": {},
   "outputs": [],
   "source": [
    "void wypiszMacierz(int** tablica, int wysokosc, int szerokosc) {\n",
    "\tprintf(\"Macierz o wymiarach %dx%d:\\n\", wysokosc, szerokosc);\n",
    "\tfor (int i = 0; i < wysokosc; i++) {\n",
    "\t\tfor (int j = 0; j < szerokosc; j++) {\n",
    "\t\t\tprintf(\"%d \", tablica[i][j]);\n",
    "\t\t}\n",
    "\t\tprintf(\"\\n\");\n",
    "\t}\n",
    "}"
   ]
  },
  {
   "cell_type": "markdown",
   "metadata": {},
   "source": [
    "Wymiary wszystkich 3 macierzy sa wpisane na stale tak, aby powstaly dwie macierze 3x3 oraz jedna 2x2 w celu ukazania dzialania wszystkich funkcji."
   ]
  },
  {
   "cell_type": "code",
   "execution_count": 23,
   "metadata": {},
   "outputs": [],
   "source": [
    "void zad3() {\n",
    "\tint wysokosc = 3;\n",
    "\tint szerokosc = 3;\n",
    "\tint** macierz1 = rezerwujMacierz(wysokosc, szerokosc);\n",
    "\tint** macierz2 = rezerwujMacierz(wysokosc, szerokosc);\n",
    "\tlosujMacierz(macierz1, wysokosc, szerokosc);\n",
    "\tlosujMacierz(macierz2, wysokosc, szerokosc);\n",
    "\n",
    "\tprintf(\"Wygenerowane macierze:\\n\");\n",
    "\twypiszMacierz(macierz1, wysokosc, szerokosc);\n",
    "\twypiszMacierz(macierz2, wysokosc, szerokosc);\n",
    "\n",
    "\tprintf(\"Suma macierzy:\\n\");\n",
    "\tint** suma_macierzy = sumujMacierze(macierz1, macierz2, wysokosc, szerokosc);\n",
    "\twypiszMacierz(suma_macierzy, wysokosc, szerokosc);\n",
    "\n",
    "\tprintf(\"Iloczyn macierzy:\\n\");\n",
    "\tint** iloczyn_macierzy = mnozMacierze(macierz1, macierz2, wysokosc, szerokosc, wysokosc, szerokosc);\n",
    "\twypiszMacierz(iloczyn_macierzy, wysokosc, szerokosc);\n",
    "\n",
    "\tprintf(\"Wyznacznik macierzy: %d\\n\", obliczWykladnik3(macierz1, wysokosc, szerokosc));\n",
    "\n",
    "\n",
    "\n",
    "\tint wysokosc3 = 2;\n",
    "\tint szerokosc3 = 2;\n",
    "\tint** macierz3 = rezerwujMacierz(wysokosc3, szerokosc3);\n",
    "\n",
    "\tlosujMacierz(macierz3, wysokosc3, szerokosc3);\n",
    "\n",
    "\tprintf(\"Wygenerowana macierz:\\n\");\n",
    "\twypiszMacierz(macierz3, wysokosc3, szerokosc3);\n",
    "\n",
    "\tprintf(\"Wyznacznik macierzy: %d\\n\", obliczWykladnik2(macierz3, wysokosc3, szerokosc3));\n",
    "}"
   ]
  },
  {
   "cell_type": "markdown",
   "metadata": {},
   "source": [
    "### Funkcja main()"
   ]
  },
  {
   "cell_type": "markdown",
   "metadata": {},
   "source": [
    "Nalezy \"zdjac komentarz\" z pozadanej funkcji gdyz nie da sie pobierac danych od uzytkownika."
   ]
  },
  {
   "cell_type": "code",
   "execution_count": 28,
   "metadata": {},
   "outputs": [],
   "source": [
    "\n",
    "int main() {\n",
    "\tsrand(time(0));\n",
    "    /*\n",
    "\tbool wyjscie = false;\n",
    "\tdo {\n",
    "\t\tint numer = 0;\n",
    "\t\tprintf(\"Ktore zadanie chcesz wykonac?\\n\");\n",
    "\t\tscanf_s(\"%d\", &numer);\n",
    "\t\tswitch (numer) {\n",
    "\t\tcase 1:\n",
    "\t\t\tzad1();\n",
    "\t\t\tbreak;\n",
    "\t\tcase 2:\n",
    "\t\t\tzad2();\n",
    "\t\t\tbreak;\n",
    "\t\tcase 3:\n",
    "\t\t\tzad3();\n",
    "\t\t\tbreak;\n",
    "\t\tdefault:\n",
    "\t\t\tprintf(\"Musisz podac numer pomiedzy 1 a 3 wlacznie\\n\");\n",
    "\t\t\tbreak;\n",
    "\t\t}\n",
    "\t\tprintf(\"Czy chcesz zakonczyc program ? (1 = Tak, 0 = Nie)\\n\");\n",
    "\t\tint odp;\n",
    "\t\tscanf_s(\"%d\", &odp);\n",
    "\t\tif (odp == 1) wyjscie = true;\n",
    "\n",
    "\t} while (!wyjscie);\n",
    "    */\n",
    "    //zad1();\n",
    "    //zad2();\n",
    "    //zad3();\n",
    "\treturn 0;\n",
    "}"
   ]
  }
 ],
 "metadata": {
  "kernelspec": {
   "display_name": "C++14",
   "language": "C++14",
   "name": "xcpp14"
  },
  "language_info": {
   "codemirror_mode": "text/x-c++src",
   "file_extension": ".cpp",
   "mimetype": "text/x-c++src",
   "name": "c++",
   "version": "14"
  }
 },
 "nbformat": 4,
 "nbformat_minor": 4
}
